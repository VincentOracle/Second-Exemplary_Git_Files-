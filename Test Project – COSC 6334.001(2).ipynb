{
 "cells": [
  {
   "cell_type": "code",
   "execution_count": null,
   "id": "79c7d7d1",
   "metadata": {},
   "outputs": [],
   "source": [
    "   \n",
    "           #Project – COSC 6334.001(2)\n",
    "        \n",
    "        \n",
    "# To design and implement a system that finds the inverse of a matrix of size n x n with a running time complexity of O(n^3), \n",
    "# we can use the LU decomposition method with partial pivoting. The steps involved are as follows:\n",
    "# 1. Input the matrix A from the user or generate it randomly with entries a(i,j) ∈ R, where n >= 20.\n",
    "# 2. Check whether A is a square matrix, i.e., the number of rows and columns of A should be equal. If not, raise an error.\n",
    "# 3. Check whether A is nonsingular, i.e., its determinant is nonzero. If the determinant is zero, then the matrix is singular,\n",
    "# and the inverse cannot be computed. In this case, raise an error.\n",
    "# 4. Perform LU decomposition of A with partial pivoting, which can be written as PA = LU, where P is a permutation matrix, \n",
    "# L is a lower triangular matrix with ones on the diagonal, and U is an upper triangular matrix. The LU decomposition can \n",
    "# be done using Gaussian elimination with partial pivoting, which has a time complexity of O(n^3).\n",
    "# 5. Solve the equation LUX = B, where B is the identity matrix of size n x n. To do this, first solve the equation LY = B for \n",
    "# Y using forward substitution, and then solve UX = Y for X using back substitution. Forward and back substitution can be done\n",
    "# in O(n^2) time.\n",
    "# 6. The solution X obtained in step 5 is the inverse of A."
   ]
  },
  {
   "cell_type": "code",
   "execution_count": null,
   "id": "50805bc5",
   "metadata": {},
   "outputs": [],
   "source": [
    "\n",
    "    #Import necessary libraries\n",
    "import numpy as np"
   ]
  },
  {
   "cell_type": "code",
   "execution_count": null,
   "id": "32bf5470",
   "metadata": {},
   "outputs": [],
   "source": [
    "\n",
    "#Functions and Algorithms\n",
    "def lu_decomposition(A):\n",
    "    n = A.shape[0]\n",
    "    P = np.identity(n)\n",
    "    L = np.zeros((n, n))\n",
    "    U = np.copy(A)\n",
    "\n",
    "    for k in range(n-1):\n",
    "        # partial pivoting\n",
    "        pivot = np.argmax(np.abs(U[k:, k])) + k\n",
    "        if pivot != k:\n",
    "            U[[k, pivot], :] = U[[pivot, k], :]\n",
    "            P[[k, pivot], :] = P[[pivot, k], :]\n",
    "\n",
    "        # elimination\n",
    "        L[k, k] = 1\n",
    "        for i in range(k+1, n):\n",
    "            factor = U[i, k] / U[k, k]\n",
    "            L[i, k] = factor\n",
    "            U[i, k:] -= factor * U[k, k:]\n",
    "\n",
    "    L[-1, -1] = 1\n",
    "    return P, L, U\n",
    "\n",
    "def solve_linear_system(L, U, B):\n",
    "    n = L.shape[0]\n",
    "    Y = np.zeros((n, n))\n",
    "    X = np.zeros((n, n))\n",
    "\n",
    "    for j in range(n):\n",
    "        # forward substitution\n",
    "        Y[0, j] = B[0, j] / L[0, 0]\n",
    "        for i in range(1, n):\n",
    "            Y[i, j] = (B[i, j] - np.dot(L[i, :i], Y[:i, j])) / L[i, i]\n",
    "\n",
    "        # back substitution\n",
    "        X[-1, j] = Y[-1, j] / U[-1, -1]\n",
    "        for i in range(n-2, -1, -1):\n",
    "            X[i, j] = (Y[i, j] - np.dot(U[i, i+1:], X[i+1:, j])) / U[i, i]\n",
    "\n",
    "    return X\n",
    "\n",
    "# input matrix A from user or generate it randomly\n",
    "n = int(input(\"Enter the dimension of the matrix: \"))\n",
    "A = np.random.rand(n, n)\n",
    "\n",
    "\n"
   ]
  },
  {
   "cell_type": "code",
   "execution_count": null,
   "id": "38372d37",
   "metadata": {},
   "outputs": [],
   "source": [
    "# check whether A is square\n",
    "if A.shape[0] != A.shape[1]:\n",
    "    raise ValueError(\"Matrix A must be square\")\n",
    "    \n",
    "# check whether A is nonsingular\n",
    "if np.linalg.det(A) == 0:\n",
    "    raise ValueError(\"Matrix A is singular and cannot be inverted\")\n",
    "    \n",
    "# perform LU decomposition of A with partial pivoting\n",
    "P, L, U = lu_decomposition(A)\n",
    "\n",
    "# solve the equation LUX = B for X\n",
    "B = np.identity(n)\n",
    "X = solve_linear_system(L, U, B)\n",
    "\n",
    "# print the inverse matrix\n",
    "print(\"Inverse of A:\\n\", X)\n"
   ]
  },
  {
   "cell_type": "code",
   "execution_count": null,
   "id": "b43d4f20",
   "metadata": {},
   "outputs": [],
   "source": [
    "# To test the code with the provided data.csv file, \n",
    "# we can read in the data and use it as the input matrix A. \n",
    "# Here is the implementation.\n",
    "\n",
    "# read in data from file\n",
    "data = np.loadtxt(\"C:\\\\Users\\\\n\\\\Downloads\\\\DAA mvs project\\\\data (5).csv\", delimiter=\",\")\n",
    "n = data.shape[0]\n",
    "print(data)"
   ]
  },
  {
   "cell_type": "code",
   "execution_count": null,
   "id": "956bf33c",
   "metadata": {},
   "outputs": [],
   "source": [
    "\n",
    "# check whether A is square\n",
    "if data.shape[0] != data.shape[1]:\n",
    "    raise ValueError(\"Matrix A must be square\")\n",
    "\n",
    "# check whether A is nonsingular\n",
    "if np.linalg.det(data) == 0:\n",
    "    raise ValueError(\"Matrix A is singular and cannot be inverted\")\n",
    "\n",
    "# perform LU decomposition of A with partial pivoting\n",
    "P, L, U = lu_decomposition(data)\n"
   ]
  },
  {
   "cell_type": "code",
   "execution_count": null,
   "id": "3d217a0e",
   "metadata": {},
   "outputs": [],
   "source": [
    "# solve the equation LUX = B for X\n",
    "B = np.identity(n)\n",
    "X = solve_linear_system(L, U, B)\n",
    "\n",
    "# print the inverse matrix\n",
    "print(\"Inverse of A:\\n\", X)"
   ]
  },
  {
   "cell_type": "code",
   "execution_count": null,
   "id": "f5f850d7",
   "metadata": {},
   "outputs": [],
   "source": [
    "#THE END"
   ]
  }
 ],
 "metadata": {
  "kernelspec": {
   "display_name": "Python 3 (ipykernel)",
   "language": "python",
   "name": "python3"
  },
  "language_info": {
   "codemirror_mode": {
    "name": "ipython",
    "version": 3
   },
   "file_extension": ".py",
   "mimetype": "text/x-python",
   "name": "python",
   "nbconvert_exporter": "python",
   "pygments_lexer": "ipython3",
   "version": "3.9.12"
  }
 },
 "nbformat": 4,
 "nbformat_minor": 5
}
