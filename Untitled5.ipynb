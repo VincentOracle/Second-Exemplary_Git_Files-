{
 "cells": [
  {
   "cell_type": "code",
   "execution_count": null,
   "id": "a70bc0fa",
   "metadata": {},
   "outputs": [],
   "source": [
    "#          GENOMIC CODE"
   ]
  },
  {
   "cell_type": "code",
   "execution_count": null,
   "id": "c183acf2",
   "metadata": {},
   "outputs": [],
   "source": [
    "#   1 Data preprocessing"
   ]
  },
  {
   "cell_type": "code",
   "execution_count": null,
   "id": "100c0ac5",
   "metadata": {},
   "outputs": [],
   "source": [
    "import pandas as pd\n",
    "import numpy as np\n",
    "from sklearn.preprocessing import LabelEncoder"
   ]
  },
  {
   "cell_type": "code",
   "execution_count": null,
   "id": "c9606800",
   "metadata": {},
   "outputs": [],
   "source": [
    "# Load the dataset\n",
    "# dataset = pd.read_csv('genomic_data.csv')\n",
    "dataset = pd.read_csv('C:\\\\Users\\\\n\\\\Downloads\\\\genomic_data.csv')\n",
    "print(dataset)"
   ]
  }
 ],
 "metadata": {
  "kernelspec": {
   "display_name": "Python 3 (ipykernel)",
   "language": "python",
   "name": "python3"
  }
 },
 "nbformat": 4,
 "nbformat_minor": 5
}
