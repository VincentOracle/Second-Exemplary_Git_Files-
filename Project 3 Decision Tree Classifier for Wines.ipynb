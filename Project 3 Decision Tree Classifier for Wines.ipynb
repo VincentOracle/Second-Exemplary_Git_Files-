{
 "cells": [
  {
   "cell_type": "markdown",
   "id": "892cc955",
   "metadata": {},
   "source": [
    "#                         Project 3 Decision Tree Classifier for Wines"
   ]
  },
  {
   "cell_type": "code",
   "execution_count": 4,
   "id": "4f567c4d",
   "metadata": {},
   "outputs": [
    {
     "name": "stdout",
     "output_type": "stream",
     "text": [
      "Collecting graphviz\n",
      "  Using cached graphviz-0.20.1-py3-none-any.whl (47 kB)\n",
      "Installing collected packages: graphviz\n",
      "Successfully installed graphviz-0.20.1\n"
     ]
    }
   ],
   "source": [
    "!pip install graphviz"
   ]
  },
  {
   "cell_type": "code",
   "execution_count": 53,
   "id": "3fa2dea6",
   "metadata": {},
   "outputs": [
    {
     "name": "stderr",
     "output_type": "stream",
     "text": [
      "Intel(R) Extension for Scikit-learn* enabled (https://github.com/intel/scikit-learn-intelex)\n"
     ]
    }
   ],
   "source": [
    "#Import the neccessary libraries\n",
    "import pandas as pd\n",
    "from sklearn.tree import DecisionTreeClassifier\n",
    "from sklearn.metrics import accuracy_score\n",
    "from sklearn.model_selection import train_test_split\n",
    "from sklearn.preprocessing import StandardScaler\n",
    "import matplotlib.pyplot as plt\n",
    "from sklearn.tree import export_graphviz\n",
    "import graphviz\n",
    "from sklearn.tree import plot_tree\n",
    "import matplotlib.pyplot as plt\n",
    "from sklearn.model_selection import train_test_split\n",
    "from __future__ import print_function\n",
    "import os\n",
    "data_path = ['data']\n",
    "from io import StringIO\n",
    "from IPython.display import Image, display\n",
    "from sklearn.tree import export_graphviz\n",
    "from sklearn.model_selection import StratifiedShuffleSplit\n",
    "from sklearn.metrics import mean_squared_error\n",
    "from sklearn.tree import DecisionTreeRegressor\n",
    "from sklearn.model_selection import GridSearchCV\n",
    "from sklearn.metrics import accuracy_score, precision_score, recall_score, f1_score\n",
    "from sklearn.tree import DecisionTreeClassifier\n",
    "from sklearnex import patch_sklearn\n",
    "patch_sklearn()\n",
    "from sklearn.metrics import classification_report"
   ]
  },
  {
   "cell_type": "code",
   "execution_count": 54,
   "id": "788b0266",
   "metadata": {},
   "outputs": [],
   "source": [
    "# Load the wine dataset\n",
    "data = pd.read_csv(\"C:\\\\Users\\\\n\\\\Downloads\\\\wines.csv\")"
   ]
  },
  {
   "cell_type": "code",
   "execution_count": 55,
   "id": "34f7d7b1",
   "metadata": {},
   "outputs": [
    {
     "data": {
      "text/html": [
       "<div>\n",
       "<style scoped>\n",
       "    .dataframe tbody tr th:only-of-type {\n",
       "        vertical-align: middle;\n",
       "    }\n",
       "\n",
       "    .dataframe tbody tr th {\n",
       "        vertical-align: top;\n",
       "    }\n",
       "\n",
       "    .dataframe thead th {\n",
       "        text-align: right;\n",
       "    }\n",
       "</style>\n",
       "<table border=\"1\" class=\"dataframe\">\n",
       "  <thead>\n",
       "    <tr style=\"text-align: right;\">\n",
       "      <th></th>\n",
       "      <th>Type</th>\n",
       "      <th>Alcohol</th>\n",
       "      <th>MalicAcid</th>\n",
       "      <th>Ash</th>\n",
       "      <th>Alcalinity</th>\n",
       "      <th>Magnesium</th>\n",
       "      <th>Phenols</th>\n",
       "      <th>Flavanoids</th>\n",
       "      <th>Nonflavanoid</th>\n",
       "      <th>Proanthocyanins</th>\n",
       "      <th>ColorIntensity</th>\n",
       "      <th>Hue</th>\n",
       "      <th>DilutedWines</th>\n",
       "      <th>Proline</th>\n",
       "    </tr>\n",
       "  </thead>\n",
       "  <tbody>\n",
       "    <tr>\n",
       "      <th>0</th>\n",
       "      <td>1</td>\n",
       "      <td>13.50</td>\n",
       "      <td>1.81</td>\n",
       "      <td>2.61</td>\n",
       "      <td>20.0</td>\n",
       "      <td>96</td>\n",
       "      <td>2.53</td>\n",
       "      <td>2.61</td>\n",
       "      <td>0.28</td>\n",
       "      <td>1.66</td>\n",
       "      <td>3.52</td>\n",
       "      <td>1.12</td>\n",
       "      <td>3.82</td>\n",
       "      <td>845</td>\n",
       "    </tr>\n",
       "    <tr>\n",
       "      <th>1</th>\n",
       "      <td>1</td>\n",
       "      <td>13.05</td>\n",
       "      <td>2.05</td>\n",
       "      <td>3.22</td>\n",
       "      <td>25.0</td>\n",
       "      <td>124</td>\n",
       "      <td>2.63</td>\n",
       "      <td>2.68</td>\n",
       "      <td>0.47</td>\n",
       "      <td>1.92</td>\n",
       "      <td>3.58</td>\n",
       "      <td>1.13</td>\n",
       "      <td>3.20</td>\n",
       "      <td>830</td>\n",
       "    </tr>\n",
       "    <tr>\n",
       "      <th>2</th>\n",
       "      <td>1</td>\n",
       "      <td>13.07</td>\n",
       "      <td>1.50</td>\n",
       "      <td>2.10</td>\n",
       "      <td>15.5</td>\n",
       "      <td>98</td>\n",
       "      <td>2.40</td>\n",
       "      <td>2.64</td>\n",
       "      <td>0.28</td>\n",
       "      <td>1.37</td>\n",
       "      <td>3.70</td>\n",
       "      <td>1.18</td>\n",
       "      <td>2.69</td>\n",
       "      <td>1020</td>\n",
       "    </tr>\n",
       "    <tr>\n",
       "      <th>3</th>\n",
       "      <td>1</td>\n",
       "      <td>13.71</td>\n",
       "      <td>1.86</td>\n",
       "      <td>2.36</td>\n",
       "      <td>16.6</td>\n",
       "      <td>101</td>\n",
       "      <td>2.61</td>\n",
       "      <td>2.88</td>\n",
       "      <td>0.27</td>\n",
       "      <td>1.69</td>\n",
       "      <td>3.80</td>\n",
       "      <td>1.11</td>\n",
       "      <td>4.00</td>\n",
       "      <td>1035</td>\n",
       "    </tr>\n",
       "    <tr>\n",
       "      <th>4</th>\n",
       "      <td>1</td>\n",
       "      <td>13.68</td>\n",
       "      <td>1.83</td>\n",
       "      <td>2.36</td>\n",
       "      <td>17.2</td>\n",
       "      <td>104</td>\n",
       "      <td>2.42</td>\n",
       "      <td>2.69</td>\n",
       "      <td>0.42</td>\n",
       "      <td>1.97</td>\n",
       "      <td>3.84</td>\n",
       "      <td>1.23</td>\n",
       "      <td>2.87</td>\n",
       "      <td>990</td>\n",
       "    </tr>\n",
       "  </tbody>\n",
       "</table>\n",
       "</div>"
      ],
      "text/plain": [
       "   Type  Alcohol  MalicAcid   Ash  Alcalinity  Magnesium  Phenols  Flavanoids  \\\n",
       "0     1    13.50       1.81  2.61        20.0         96     2.53        2.61   \n",
       "1     1    13.05       2.05  3.22        25.0        124     2.63        2.68   \n",
       "2     1    13.07       1.50  2.10        15.5         98     2.40        2.64   \n",
       "3     1    13.71       1.86  2.36        16.6        101     2.61        2.88   \n",
       "4     1    13.68       1.83  2.36        17.2        104     2.42        2.69   \n",
       "\n",
       "   Nonflavanoid  Proanthocyanins  ColorIntensity   Hue  DilutedWines  Proline  \n",
       "0          0.28             1.66            3.52  1.12          3.82      845  \n",
       "1          0.47             1.92            3.58  1.13          3.20      830  \n",
       "2          0.28             1.37            3.70  1.18          2.69     1020  \n",
       "3          0.27             1.69            3.80  1.11          4.00     1035  \n",
       "4          0.42             1.97            3.84  1.23          2.87      990  "
      ]
     },
     "execution_count": 55,
     "metadata": {},
     "output_type": "execute_result"
    }
   ],
   "source": [
    "data.head()"
   ]
  },
  {
   "cell_type": "code",
   "execution_count": 56,
   "id": "d67d5a74",
   "metadata": {},
   "outputs": [
    {
     "data": {
      "text/html": [
       "<div>\n",
       "<style scoped>\n",
       "    .dataframe tbody tr th:only-of-type {\n",
       "        vertical-align: middle;\n",
       "    }\n",
       "\n",
       "    .dataframe tbody tr th {\n",
       "        vertical-align: top;\n",
       "    }\n",
       "\n",
       "    .dataframe thead th {\n",
       "        text-align: right;\n",
       "    }\n",
       "</style>\n",
       "<table border=\"1\" class=\"dataframe\">\n",
       "  <thead>\n",
       "    <tr style=\"text-align: right;\">\n",
       "      <th></th>\n",
       "      <th>Type</th>\n",
       "      <th>Alcohol</th>\n",
       "      <th>MalicAcid</th>\n",
       "      <th>Ash</th>\n",
       "      <th>Alcalinity</th>\n",
       "      <th>Magnesium</th>\n",
       "      <th>Phenols</th>\n",
       "      <th>Flavanoids</th>\n",
       "      <th>Nonflavanoid</th>\n",
       "      <th>Proanthocyanins</th>\n",
       "      <th>ColorIntensity</th>\n",
       "      <th>Hue</th>\n",
       "      <th>DilutedWines</th>\n",
       "      <th>Proline</th>\n",
       "    </tr>\n",
       "  </thead>\n",
       "  <tbody>\n",
       "    <tr>\n",
       "      <th>25</th>\n",
       "      <td>3</td>\n",
       "      <td>13.17</td>\n",
       "      <td>5.19</td>\n",
       "      <td>2.32</td>\n",
       "      <td>22.0</td>\n",
       "      <td>93</td>\n",
       "      <td>1.74</td>\n",
       "      <td>0.63</td>\n",
       "      <td>0.61</td>\n",
       "      <td>1.55</td>\n",
       "      <td>7.90</td>\n",
       "      <td>0.60</td>\n",
       "      <td>1.48</td>\n",
       "      <td>725</td>\n",
       "    </tr>\n",
       "    <tr>\n",
       "      <th>26</th>\n",
       "      <td>3</td>\n",
       "      <td>12.25</td>\n",
       "      <td>3.88</td>\n",
       "      <td>2.20</td>\n",
       "      <td>18.5</td>\n",
       "      <td>112</td>\n",
       "      <td>1.38</td>\n",
       "      <td>0.78</td>\n",
       "      <td>0.29</td>\n",
       "      <td>1.14</td>\n",
       "      <td>8.21</td>\n",
       "      <td>0.65</td>\n",
       "      <td>2.00</td>\n",
       "      <td>855</td>\n",
       "    </tr>\n",
       "    <tr>\n",
       "      <th>27</th>\n",
       "      <td>3</td>\n",
       "      <td>13.58</td>\n",
       "      <td>2.58</td>\n",
       "      <td>2.69</td>\n",
       "      <td>24.5</td>\n",
       "      <td>105</td>\n",
       "      <td>1.55</td>\n",
       "      <td>0.84</td>\n",
       "      <td>0.39</td>\n",
       "      <td>1.54</td>\n",
       "      <td>8.66</td>\n",
       "      <td>0.74</td>\n",
       "      <td>1.80</td>\n",
       "      <td>750</td>\n",
       "    </tr>\n",
       "    <tr>\n",
       "      <th>28</th>\n",
       "      <td>3</td>\n",
       "      <td>13.17</td>\n",
       "      <td>2.59</td>\n",
       "      <td>2.37</td>\n",
       "      <td>20.0</td>\n",
       "      <td>120</td>\n",
       "      <td>1.65</td>\n",
       "      <td>0.68</td>\n",
       "      <td>0.53</td>\n",
       "      <td>1.46</td>\n",
       "      <td>9.30</td>\n",
       "      <td>0.60</td>\n",
       "      <td>1.62</td>\n",
       "      <td>840</td>\n",
       "    </tr>\n",
       "    <tr>\n",
       "      <th>29</th>\n",
       "      <td>3</td>\n",
       "      <td>14.34</td>\n",
       "      <td>1.68</td>\n",
       "      <td>2.70</td>\n",
       "      <td>25.0</td>\n",
       "      <td>98</td>\n",
       "      <td>2.80</td>\n",
       "      <td>1.31</td>\n",
       "      <td>0.53</td>\n",
       "      <td>2.70</td>\n",
       "      <td>13.00</td>\n",
       "      <td>0.57</td>\n",
       "      <td>1.96</td>\n",
       "      <td>660</td>\n",
       "    </tr>\n",
       "  </tbody>\n",
       "</table>\n",
       "</div>"
      ],
      "text/plain": [
       "    Type  Alcohol  MalicAcid   Ash  Alcalinity  Magnesium  Phenols  \\\n",
       "25     3    13.17       5.19  2.32        22.0         93     1.74   \n",
       "26     3    12.25       3.88  2.20        18.5        112     1.38   \n",
       "27     3    13.58       2.58  2.69        24.5        105     1.55   \n",
       "28     3    13.17       2.59  2.37        20.0        120     1.65   \n",
       "29     3    14.34       1.68  2.70        25.0         98     2.80   \n",
       "\n",
       "    Flavanoids  Nonflavanoid  Proanthocyanins  ColorIntensity   Hue  \\\n",
       "25        0.63          0.61             1.55            7.90  0.60   \n",
       "26        0.78          0.29             1.14            8.21  0.65   \n",
       "27        0.84          0.39             1.54            8.66  0.74   \n",
       "28        0.68          0.53             1.46            9.30  0.60   \n",
       "29        1.31          0.53             2.70           13.00  0.57   \n",
       "\n",
       "    DilutedWines  Proline  \n",
       "25          1.48      725  \n",
       "26          2.00      855  \n",
       "27          1.80      750  \n",
       "28          1.62      840  \n",
       "29          1.96      660  "
      ]
     },
     "execution_count": 56,
     "metadata": {},
     "output_type": "execute_result"
    }
   ],
   "source": [
    "data.tail()"
   ]
  },
  {
   "cell_type": "code",
   "execution_count": 57,
   "id": "cb5de685",
   "metadata": {},
   "outputs": [
    {
     "data": {
      "text/html": [
       "<div>\n",
       "<style scoped>\n",
       "    .dataframe tbody tr th:only-of-type {\n",
       "        vertical-align: middle;\n",
       "    }\n",
       "\n",
       "    .dataframe tbody tr th {\n",
       "        vertical-align: top;\n",
       "    }\n",
       "\n",
       "    .dataframe thead th {\n",
       "        text-align: right;\n",
       "    }\n",
       "</style>\n",
       "<table border=\"1\" class=\"dataframe\">\n",
       "  <thead>\n",
       "    <tr style=\"text-align: right;\">\n",
       "      <th></th>\n",
       "      <th>Type</th>\n",
       "      <th>Alcohol</th>\n",
       "      <th>MalicAcid</th>\n",
       "      <th>Ash</th>\n",
       "      <th>Alcalinity</th>\n",
       "      <th>Magnesium</th>\n",
       "      <th>Phenols</th>\n",
       "      <th>Flavanoids</th>\n",
       "      <th>Nonflavanoid</th>\n",
       "      <th>Proanthocyanins</th>\n",
       "      <th>ColorIntensity</th>\n",
       "      <th>Hue</th>\n",
       "      <th>DilutedWines</th>\n",
       "      <th>Proline</th>\n",
       "    </tr>\n",
       "  </thead>\n",
       "  <tbody>\n",
       "    <tr>\n",
       "      <th>count</th>\n",
       "      <td>30.000000</td>\n",
       "      <td>30.000000</td>\n",
       "      <td>30.000000</td>\n",
       "      <td>30.000000</td>\n",
       "      <td>30.000000</td>\n",
       "      <td>30.000000</td>\n",
       "      <td>30.000000</td>\n",
       "      <td>30.000000</td>\n",
       "      <td>30.000000</td>\n",
       "      <td>30.000000</td>\n",
       "      <td>30.000000</td>\n",
       "      <td>30.000000</td>\n",
       "      <td>30.000000</td>\n",
       "      <td>30.000000</td>\n",
       "    </tr>\n",
       "    <tr>\n",
       "      <th>mean</th>\n",
       "      <td>2.000000</td>\n",
       "      <td>12.989000</td>\n",
       "      <td>2.255000</td>\n",
       "      <td>2.327667</td>\n",
       "      <td>19.283333</td>\n",
       "      <td>97.533333</td>\n",
       "      <td>2.108333</td>\n",
       "      <td>1.757000</td>\n",
       "      <td>0.384333</td>\n",
       "      <td>1.502333</td>\n",
       "      <td>5.103333</td>\n",
       "      <td>0.983333</td>\n",
       "      <td>2.439333</td>\n",
       "      <td>762.866667</td>\n",
       "    </tr>\n",
       "    <tr>\n",
       "      <th>std</th>\n",
       "      <td>0.830455</td>\n",
       "      <td>0.652366</td>\n",
       "      <td>1.184558</td>\n",
       "      <td>0.369078</td>\n",
       "      <td>3.507340</td>\n",
       "      <td>13.753328</td>\n",
       "      <td>0.495484</td>\n",
       "      <td>0.904754</td>\n",
       "      <td>0.120192</td>\n",
       "      <td>0.543702</td>\n",
       "      <td>2.408344</td>\n",
       "      <td>0.261420</td>\n",
       "      <td>0.746167</td>\n",
       "      <td>251.083409</td>\n",
       "    </tr>\n",
       "    <tr>\n",
       "      <th>min</th>\n",
       "      <td>1.000000</td>\n",
       "      <td>11.030000</td>\n",
       "      <td>0.900000</td>\n",
       "      <td>1.360000</td>\n",
       "      <td>10.600000</td>\n",
       "      <td>78.000000</td>\n",
       "      <td>1.150000</td>\n",
       "      <td>0.470000</td>\n",
       "      <td>0.240000</td>\n",
       "      <td>0.420000</td>\n",
       "      <td>1.900000</td>\n",
       "      <td>0.570000</td>\n",
       "      <td>1.270000</td>\n",
       "      <td>372.000000</td>\n",
       "    </tr>\n",
       "    <tr>\n",
       "      <th>25%</th>\n",
       "      <td>1.000000</td>\n",
       "      <td>12.470000</td>\n",
       "      <td>1.502500</td>\n",
       "      <td>2.152500</td>\n",
       "      <td>16.850000</td>\n",
       "      <td>88.000000</td>\n",
       "      <td>1.672500</td>\n",
       "      <td>0.795000</td>\n",
       "      <td>0.280000</td>\n",
       "      <td>1.192500</td>\n",
       "      <td>3.725000</td>\n",
       "      <td>0.742500</td>\n",
       "      <td>1.820000</td>\n",
       "      <td>565.000000</td>\n",
       "    </tr>\n",
       "    <tr>\n",
       "      <th>50%</th>\n",
       "      <td>2.000000</td>\n",
       "      <td>13.060000</td>\n",
       "      <td>1.820000</td>\n",
       "      <td>2.365000</td>\n",
       "      <td>19.250000</td>\n",
       "      <td>98.000000</td>\n",
       "      <td>2.055000</td>\n",
       "      <td>1.925000</td>\n",
       "      <td>0.360000</td>\n",
       "      <td>1.460000</td>\n",
       "      <td>4.425000</td>\n",
       "      <td>1.065000</td>\n",
       "      <td>2.395000</td>\n",
       "      <td>737.500000</td>\n",
       "    </tr>\n",
       "    <tr>\n",
       "      <th>75%</th>\n",
       "      <td>3.000000</td>\n",
       "      <td>13.467500</td>\n",
       "      <td>3.092500</td>\n",
       "      <td>2.547500</td>\n",
       "      <td>21.875000</td>\n",
       "      <td>103.500000</td>\n",
       "      <td>2.457500</td>\n",
       "      <td>2.590000</td>\n",
       "      <td>0.492500</td>\n",
       "      <td>1.682500</td>\n",
       "      <td>5.835000</td>\n",
       "      <td>1.120000</td>\n",
       "      <td>2.870000</td>\n",
       "      <td>956.250000</td>\n",
       "    </tr>\n",
       "    <tr>\n",
       "      <th>max</th>\n",
       "      <td>3.000000</td>\n",
       "      <td>14.340000</td>\n",
       "      <td>5.190000</td>\n",
       "      <td>3.220000</td>\n",
       "      <td>25.000000</td>\n",
       "      <td>136.000000</td>\n",
       "      <td>3.000000</td>\n",
       "      <td>3.230000</td>\n",
       "      <td>0.610000</td>\n",
       "      <td>2.760000</td>\n",
       "      <td>13.000000</td>\n",
       "      <td>1.710000</td>\n",
       "      <td>4.000000</td>\n",
       "      <td>1285.000000</td>\n",
       "    </tr>\n",
       "  </tbody>\n",
       "</table>\n",
       "</div>"
      ],
      "text/plain": [
       "            Type    Alcohol  MalicAcid        Ash  Alcalinity   Magnesium  \\\n",
       "count  30.000000  30.000000  30.000000  30.000000   30.000000   30.000000   \n",
       "mean    2.000000  12.989000   2.255000   2.327667   19.283333   97.533333   \n",
       "std     0.830455   0.652366   1.184558   0.369078    3.507340   13.753328   \n",
       "min     1.000000  11.030000   0.900000   1.360000   10.600000   78.000000   \n",
       "25%     1.000000  12.470000   1.502500   2.152500   16.850000   88.000000   \n",
       "50%     2.000000  13.060000   1.820000   2.365000   19.250000   98.000000   \n",
       "75%     3.000000  13.467500   3.092500   2.547500   21.875000  103.500000   \n",
       "max     3.000000  14.340000   5.190000   3.220000   25.000000  136.000000   \n",
       "\n",
       "         Phenols  Flavanoids  Nonflavanoid  Proanthocyanins  ColorIntensity  \\\n",
       "count  30.000000   30.000000     30.000000        30.000000       30.000000   \n",
       "mean    2.108333    1.757000      0.384333         1.502333        5.103333   \n",
       "std     0.495484    0.904754      0.120192         0.543702        2.408344   \n",
       "min     1.150000    0.470000      0.240000         0.420000        1.900000   \n",
       "25%     1.672500    0.795000      0.280000         1.192500        3.725000   \n",
       "50%     2.055000    1.925000      0.360000         1.460000        4.425000   \n",
       "75%     2.457500    2.590000      0.492500         1.682500        5.835000   \n",
       "max     3.000000    3.230000      0.610000         2.760000       13.000000   \n",
       "\n",
       "             Hue  DilutedWines      Proline  \n",
       "count  30.000000     30.000000    30.000000  \n",
       "mean    0.983333      2.439333   762.866667  \n",
       "std     0.261420      0.746167   251.083409  \n",
       "min     0.570000      1.270000   372.000000  \n",
       "25%     0.742500      1.820000   565.000000  \n",
       "50%     1.065000      2.395000   737.500000  \n",
       "75%     1.120000      2.870000   956.250000  \n",
       "max     1.710000      4.000000  1285.000000  "
      ]
     },
     "execution_count": 57,
     "metadata": {},
     "output_type": "execute_result"
    }
   ],
   "source": [
    "data.describe()"
   ]
  },
  {
   "cell_type": "code",
   "execution_count": 58,
   "id": "54f76154",
   "metadata": {},
   "outputs": [
    {
     "data": {
      "text/plain": [
       "Type                 int64\n",
       "Alcohol            float64\n",
       "MalicAcid          float64\n",
       "Ash                float64\n",
       "Alcalinity         float64\n",
       "Magnesium            int64\n",
       "Phenols            float64\n",
       "Flavanoids         float64\n",
       "Nonflavanoid       float64\n",
       "Proanthocyanins    float64\n",
       "ColorIntensity     float64\n",
       "Hue                float64\n",
       "DilutedWines       float64\n",
       "Proline              int64\n",
       "dtype: object"
      ]
     },
     "execution_count": 58,
     "metadata": {},
     "output_type": "execute_result"
    }
   ],
   "source": [
    "data.dtypes"
   ]
  },
  {
   "cell_type": "markdown",
   "id": "08c76922",
   "metadata": {},
   "source": [
    "# Visualization of the dataset"
   ]
  },
  {
   "cell_type": "code",
   "execution_count": 70,
   "id": "06f56a14",
   "metadata": {},
   "outputs": [
    {
     "data": {
      "image/png": "[encoded data removed]",
      "text/plain": [
       "<Figure size 432x288 with 1 Axes>"
      ]
     },
     "metadata": {
      "needs_background": "light"
     },
     "output_type": "display_data"
    }
   ],
   "source": [
    "# Histogram of Alcohol content for each wine type\n",
    "for i in range(1,4):\n",
    "    plt.hist(data[data['Type']==i]['Alcohol'], bins=10, alpha=0.5, label='Type '+str(i))\n",
    "plt.xlabel('Alcohol')\n",
    "plt.ylabel('Frequency')\n",
    "plt.legend()\n",
    "plt.show()\n"
   ]
  },
  {
   "cell_type": "code",
   "execution_count": 71,
   "id": "ad85d1ec",
   "metadata": {},
   "outputs": [
    {
     "data": {
      "image/png": "[encoded data removed]",
      "text/plain": [
       "<Figure size 432x288 with 1 Axes>"
      ]
     },
     "metadata": {
      "needs_background": "light"
     },
     "output_type": "display_data"
    }
   ],
   "source": [
    "# Scatter plot of Flavanoids vs. Phenols\n",
    "plt.scatter(data['Flavanoids'], data['Phenols'], c=data['Type'])\n",
    "plt.xlabel('Flavanoids')\n",
    "plt.ylabel('Phenols')\n",
    "plt.show()\n"
   ]
  },
  {
   "cell_type": "code",
   "execution_count": 72,
   "id": "6cd0b4df",
   "metadata": {},
   "outputs": [
    {
     "data": {
      "image/png": "[encoded data removed]",
      "text/plain": [
       "<Figure size 432x288 with 1 Axes>"
      ]
     },
     "metadata": {
      "needs_background": "light"
     },
     "output_type": "display_data"
    }
   ],
   "source": [
    "\n",
    "# Box plot of ColorIntensity for each wine type\n",
    "plt.boxplot([data[data['Type']==i]['ColorIntensity'] for i in range(1,4)])\n",
    "plt.xticks([1, 2, 3], ['Type 1', 'Type 2', 'Type 3'])\n",
    "plt.ylabel('ColorIntensity')\n",
    "plt.show()"
   ]
  },
  {
   "cell_type": "markdown",
   "id": "3d1796c5",
   "metadata": {},
   "source": [
    "# Train and Test splitting of data "
   ]
  },
  {
   "cell_type": "code",
   "execution_count": 73,
   "id": "5620b238",
   "metadata": {},
   "outputs": [
    {
     "data": {
      "text/plain": [
       "DecisionTreeClassifier()"
      ]
     },
     "execution_count": 73,
     "metadata": {},
     "output_type": "execute_result"
    }
   ],
   "source": [
    "# Split the data into features (X) and target variable (y)\n",
    "X = data.drop('Type', axis=1)\n",
    "y = data['Type']\n",
    "\n",
    "# Split the data into training and testing sets\n",
    "X_train, X_test, y_train, y_test = train_test_split(X, y, test_size=0.33, random_state=42)\n",
    "\n",
    "# Scale the features if necessary\n",
    "scaler = StandardScaler()\n",
    "X_train = scaler.fit_transform(X_train)\n",
    "X_test = scaler.transform(X_test)\n",
    "\n",
    "# Train a Decision Tree Classifier\n",
    "clf = DecisionTreeClassifier()\n",
    "clf.fit(X_train, y_train)\n"
   ]
  },
  {
   "cell_type": "code",
   "execution_count": 74,
   "id": "573c5365",
   "metadata": {},
   "outputs": [
    {
     "data": {
      "text/plain": [
       "1    0.35\n",
       "2    0.35\n",
       "3    0.30\n",
       "Name: Type, dtype: float64"
      ]
     },
     "execution_count": 74,
     "metadata": {},
     "output_type": "execute_result"
    }
   ],
   "source": [
    "y_train.value_counts(normalize=True).sort_index()"
   ]
  },
  {
   "cell_type": "code",
   "execution_count": 75,
   "id": "96b7b9a5",
   "metadata": {},
   "outputs": [
    {
     "data": {
      "text/plain": [
       "1    0.3\n",
       "2    0.3\n",
       "3    0.4\n",
       "Name: Type, dtype: float64"
      ]
     },
     "execution_count": 75,
     "metadata": {},
     "output_type": "execute_result"
    }
   ],
   "source": [
    "y_test.value_counts(normalize=True).sort_index()"
   ]
  },
  {
   "cell_type": "code",
   "execution_count": 76,
   "id": "da4db842",
   "metadata": {},
   "outputs": [
    {
     "data": {
      "text/plain": [
       "DecisionTreeClassifier()"
      ]
     },
     "execution_count": 76,
     "metadata": {},
     "output_type": "execute_result"
    }
   ],
   "source": [
    "# Fit a decision tree on the training data\n",
    "dt = DecisionTreeClassifier()\n",
    "dt.fit(X_train, y_train)\n"
   ]
  },
  {
   "cell_type": "code",
   "execution_count": 77,
   "id": "36e99cd7",
   "metadata": {},
   "outputs": [
    {
     "name": "stdout",
     "output_type": "stream",
     "text": [
      "              precision    recall  f1-score   support\n",
      "\n",
      "           1       1.00      1.00      1.00         3\n",
      "           2       1.00      1.00      1.00         3\n",
      "           3       1.00      1.00      1.00         4\n",
      "\n",
      "    accuracy                           1.00        10\n",
      "   macro avg       1.00      1.00      1.00        10\n",
      "weighted avg       1.00      1.00      1.00        10\n",
      "\n"
     ]
    }
   ],
   "source": [
    "# Test the model on the remaining 50% of the data and generate a classification report\n",
    "y_pred = dt.predict(X_test)\n",
    "print(classification_report(y_test, y_pred))"
   ]
  },
  {
   "cell_type": "markdown",
   "id": "243bce3d",
   "metadata": {},
   "source": [
    "#  Visualize the decision tree"
   ]
  },
  {
   "cell_type": "code",
   "execution_count": 78,
   "id": "eb6d38f1",
   "metadata": {},
   "outputs": [
    {
     "data": {
      "image/png": "[encoded data removed]",
      "text/plain": [
       "<Figure size 1440x720 with 1 Axes>"
      ]
     },
     "metadata": {
      "needs_background": "light"
     },
     "output_type": "display_data"
    }
   ],
   "source": [
    "# To inspect the model, we can visualize the decision tree using the \n",
    "  # plot_tree function from sklearn.tree. \n",
    "plt.figure(figsize=(20,10))\n",
    "plot_tree(dt, filled=True)\n",
    "plt.show()\n"
   ]
  },
  {
   "cell_type": "markdown",
   "id": "20d674d0",
   "metadata": {},
   "source": [
    "# Evaluate the accuracy of the classifier"
   ]
  },
  {
   "cell_type": "code",
   "execution_count": 79,
   "id": "3b612337",
   "metadata": {},
   "outputs": [
    {
     "name": "stdout",
     "output_type": "stream",
     "text": [
      "Training accuracy: 1.0\n",
      "Testing accuracy: 0.8\n"
     ]
    }
   ],
   "source": [
    "\n",
    "# Evaluate the accuracy of the classifier\n",
    "train_acc = accuracy_score(y_train, clf.predict(X_train))\n",
    "test_acc = accuracy_score(y_test, clf.predict(X_test))\n",
    "print(\"Training accuracy:\", train_acc)\n",
    "print(\"Testing accuracy:\", test_acc)"
   ]
  },
  {
   "cell_type": "code",
   "execution_count": 68,
   "id": "252aade9",
   "metadata": {},
   "outputs": [],
   "source": [
    "#THE END"
   ]
  }
 ],
 "metadata": {
  "kernelspec": {
   "display_name": "Python 3 (ipykernel)",
   "language": "python",
   "name": "python3"
  },
  "language_info": {
   "codemirror_mode": {
    "name": "ipython",
    "version": 3
   },
   "file_extension": ".py",
   "mimetype": "text/x-python",
   "name": "python",
   "nbconvert_exporter": "python",
   "pygments_lexer": "ipython3",
   "version": "3.9.12"
  }
 },
 "nbformat": 4,
 "nbformat_minor": 5
}
