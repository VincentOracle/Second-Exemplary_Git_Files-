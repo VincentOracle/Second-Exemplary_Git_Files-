{
 "cells": [
  {
   "cell_type": "code",
   "execution_count": null,
   "id": "4e95e2ba",
   "metadata": {},
   "outputs": [],
   "source": [
    "print(\"Hello  one \")"
   ]
  },
  {
   "cell_type": "code",
   "execution_count": null,
   "id": "44e10d48",
   "metadata": {},
   "outputs": [],
   "source": [
    "import pandas as pd\n"
   ]
  },
  {
   "cell_type": "code",
   "execution_count": null,
   "id": "a828ebfc",
   "metadata": {},
   "outputs": [],
   "source": [
    "paraquet_file=\"C:\\\\Users\\\\n\\Downloads\\\\fhvhv_tripdata_2022-01.parquet\""
   ]
  },
  {
   "cell_type": "code",
   "execution_count": null,
   "id": "b5b7d9bc",
   "metadata": {},
   "outputs": [],
   "source": [
    "pd.read_parquet(paraquet_file,engine=\"auto\")"
   ]
  },
  {
   "cell_type": "code",
   "execution_count": null,
   "id": "fb16799f",
   "metadata": {},
   "outputs": [],
   "source": [
    "print(\"Success!\")"
   ]
  },
  {
   "cell_type": "code",
   "execution_count": null,
   "id": "56ee77e7",
   "metadata": {},
   "outputs": [],
   "source": []
  }
 ],
 "metadata": {
  "kernelspec": {
   "display_name": "Python 3 (ipykernel)",
   "language": "python",
   "name": "python3"
  },
  "language_info": {
   "codemirror_mode": {
    "name": "ipython",
    "version": 3
   },
   "file_extension": ".py",
   "mimetype": "text/x-python",
   "name": "python",
   "nbconvert_exporter": "python",
   "pygments_lexer": "ipython3",
   "version": "3.9.12"
  }
 },
 "nbformat": 4,
 "nbformat_minor": 5
}
