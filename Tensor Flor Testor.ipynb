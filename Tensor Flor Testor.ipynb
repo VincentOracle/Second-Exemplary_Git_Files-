{
 "cells": [
  {
   "cell_type": "code",
   "execution_count": 9,
   "id": "d6ac4095",
   "metadata": {},
   "outputs": [
    {
     "ename": "ModuleNotFoundError",
     "evalue": "No module named 'tensorflow'",
     "output_type": "error",
     "traceback": [
      "\u001b[1;31m---------------------------------------------------------------------------\u001b[0m",
      "\u001b[1;31mModuleNotFoundError\u001b[0m                       Traceback (most recent call last)",
      "Input \u001b[1;32mIn [9]\u001b[0m, in \u001b[0;36m<cell line: 4>\u001b[1;34m()\u001b[0m\n\u001b[0;32m      1\u001b[0m \u001b[38;5;28;01mimport\u001b[39;00m \u001b[38;5;21;01mos\u001b[39;00m\n\u001b[0;32m      2\u001b[0m \u001b[38;5;28;01mfrom\u001b[39;00m \u001b[38;5;21;01mos\u001b[39;00m\u001b[38;5;21;01m.\u001b[39;00m\u001b[38;5;21;01mpath\u001b[39;00m \u001b[38;5;28;01mimport\u001b[39;00m exists\n\u001b[1;32m----> 4\u001b[0m \u001b[38;5;28;01mimport\u001b[39;00m \u001b[38;5;21;01mtensorflow\u001b[39;00m \u001b[38;5;28;01mas\u001b[39;00m \u001b[38;5;21;01mtf\u001b[39;00m\n\u001b[0;32m      5\u001b[0m \u001b[38;5;28;01mimport\u001b[39;00m \u001b[38;5;21;01mtensorflow\u001b[39;00m\u001b[38;5;21;01m.\u001b[39;00m\u001b[38;5;21;01mcompat\u001b[39;00m\u001b[38;5;21;01m.\u001b[39;00m\u001b[38;5;21;01mv1\u001b[39;00m \u001b[38;5;28;01mas\u001b[39;00m \u001b[38;5;21;01mtf1\u001b[39;00m\n\u001b[0;32m      7\u001b[0m tf\u001b[38;5;241m.\u001b[39mcompat\u001b[38;5;241m.\u001b[39mv1\u001b[38;5;241m.\u001b[39mdisable_eager_execution()\n",
      "\u001b[1;31mModuleNotFoundError\u001b[0m: No module named 'tensorflow'"
     ]
    }
   ],
   "source": [
    "import os\n",
    "from os.path import exists\n",
    "\n",
    "import tensorflow as tf\n",
    "import tensorflow.compat.v1 as tf1\n",
    "\n",
    "tf.compat.v1.disable_eager_execution()\n",
    "outputs = [ ]\n",
    "\n",
    "def remove_dir(path):\n",
    "    try:\n",
    "        shutil.rmtree(path)\n",
    "    except:\n",
    "        pass\n",
    "\n",
    "def add_two(input):\n",
    "    return input + 2\n",
    "\n",
    "with tf.Graph().as_default() as g:\n",
    "    with tf1.Session() as sess:\n",
    "        input = tf1.placeholder(tf.float32, shape=[])\n",
    "    output = add_two(input)\n",
    "    print(\"add two output: \", sess.run(output, {input: 3.}))\n",
    "\n",
    "    # Save with SavedModelBuilder\n",
    "builder = tf1.saved_model.Builder('saved-model-builder')\n",
    "sig_def = tf1.saved_model.predict_signature_def(\n",
    "        inputs={'input': input},\n",
    "        outputs={'output': output})\n",
    "builder.add_meta_graph_and_variables(\n",
    "        sess, tags=[\"serve\"], signature_def_map={\n",
    "            tf.saved_model.DEFAULT_SERVING_SIGNATURE_DEF_KEY: sig_def\n",
    "    })\n",
    "builder.save()\n",
    "    \n",
    "# Save with build_tensor_info\n",
    "build_tensor_info = tf.compat.v1.saved_model.build_tensor_info( tf.constant( outputs, dtype=tf.int32 ) )\n",
    "print( build_tensor_info )"
   ]
  },
  {
   "cell_type": "code",
   "execution_count": null,
   "id": "711942b9",
   "metadata": {},
   "outputs": [],
   "source": []
  }
 ],
 "metadata": {
  "kernelspec": {
   "display_name": "Python 3 (ipykernel)",
   "language": "python",
   "name": "python3"
  },
  "language_info": {
   "codemirror_mode": {
    "name": "ipython",
    "version": 3
   },
   "file_extension": ".py",
   "mimetype": "text/x-python",
   "name": "python",
   "nbconvert_exporter": "python",
   "pygments_lexer": "ipython3",
   "version": "3.9.12"
  }
 },
 "nbformat": 4,
 "nbformat_minor": 5
}
