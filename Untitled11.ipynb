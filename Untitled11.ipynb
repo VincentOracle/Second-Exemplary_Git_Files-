{
 "cells": [
  {
   "cell_type": "code",
   "execution_count": 5,
   "id": "c929caf8",
   "metadata": {},
   "outputs": [
    {
     "ename": "KeyError",
     "evalue": "('COLLEGE', 'CONSIDERING_CHANGE_OF_PLAN', 'REPORTED_SATISFACTION', 'REPORTED_USAGE_LEVEL', 'CONSIDERING_CHANGE_OF_PLAN', 'LEAVE')",
     "output_type": "error",
     "traceback": [
      "\u001b[1;31m---------------------------------------------------------------------------\u001b[0m",
      "\u001b[1;31mKeyError\u001b[0m                                  Traceback (most recent call last)",
      "File \u001b[1;32m~\\anaconda3\\lib\\site-packages\\pandas\\core\\indexes\\base.py:3621\u001b[0m, in \u001b[0;36mIndex.get_loc\u001b[1;34m(self, key, method, tolerance)\u001b[0m\n\u001b[0;32m   3620\u001b[0m \u001b[38;5;28;01mtry\u001b[39;00m:\n\u001b[1;32m-> 3621\u001b[0m     \u001b[38;5;28;01mreturn\u001b[39;00m \u001b[38;5;28;43mself\u001b[39;49m\u001b[38;5;241;43m.\u001b[39;49m\u001b[43m_engine\u001b[49m\u001b[38;5;241;43m.\u001b[39;49m\u001b[43mget_loc\u001b[49m\u001b[43m(\u001b[49m\u001b[43mcasted_key\u001b[49m\u001b[43m)\u001b[49m\n\u001b[0;32m   3622\u001b[0m \u001b[38;5;28;01mexcept\u001b[39;00m \u001b[38;5;167;01mKeyError\u001b[39;00m \u001b[38;5;28;01mas\u001b[39;00m err:\n",
      "File \u001b[1;32m~\\anaconda3\\lib\\site-packages\\pandas\\_libs\\index.pyx:136\u001b[0m, in \u001b[0;36mpandas._libs.index.IndexEngine.get_loc\u001b[1;34m()\u001b[0m\n",
      "File \u001b[1;32m~\\anaconda3\\lib\\site-packages\\pandas\\_libs\\index.pyx:163\u001b[0m, in \u001b[0;36mpandas._libs.index.IndexEngine.get_loc\u001b[1;34m()\u001b[0m\n",
      "File \u001b[1;32mpandas\\_libs\\hashtable_class_helper.pxi:5198\u001b[0m, in \u001b[0;36mpandas._libs.hashtable.PyObjectHashTable.get_item\u001b[1;34m()\u001b[0m\n",
      "File \u001b[1;32mpandas\\_libs\\hashtable_class_helper.pxi:5206\u001b[0m, in \u001b[0;36mpandas._libs.hashtable.PyObjectHashTable.get_item\u001b[1;34m()\u001b[0m\n",
      "\u001b[1;31mKeyError\u001b[0m: ('COLLEGE', 'CONSIDERING_CHANGE_OF_PLAN', 'REPORTED_SATISFACTION', 'REPORTED_USAGE_LEVEL', 'CONSIDERING_CHANGE_OF_PLAN', 'LEAVE')",
      "\nThe above exception was the direct cause of the following exception:\n",
      "\u001b[1;31mKeyError\u001b[0m                                  Traceback (most recent call last)",
      "Input \u001b[1;32mIn [5]\u001b[0m, in \u001b[0;36m<cell line: 12>\u001b[1;34m()\u001b[0m\n\u001b[0;32m     10\u001b[0m \u001b[38;5;66;03m# Data preprocessing\u001b[39;00m\n\u001b[0;32m     11\u001b[0m label_encoder \u001b[38;5;241m=\u001b[39m LabelEncoder()\n\u001b[1;32m---> 12\u001b[0m data[\u001b[38;5;124m'\u001b[39m\u001b[38;5;124mCOLLEGE\u001b[39m\u001b[38;5;124m'\u001b[39m,\u001b[38;5;124m'\u001b[39m\u001b[38;5;124mCONSIDERING_CHANGE_OF_PLAN\u001b[39m\u001b[38;5;124m'\u001b[39m,\u001b[38;5;124m'\u001b[39m\u001b[38;5;124mREPORTED_SATISFACTION\u001b[39m\u001b[38;5;124m'\u001b[39m,\u001b[38;5;124m'\u001b[39m\u001b[38;5;124mREPORTED_USAGE_LEVEL\u001b[39m\u001b[38;5;124m'\u001b[39m,\u001b[38;5;124m'\u001b[39m\u001b[38;5;124mCONSIDERING_CHANGE_OF_PLAN\u001b[39m\u001b[38;5;124m'\u001b[39m,\u001b[38;5;124m'\u001b[39m\u001b[38;5;124mLEAVE\u001b[39m\u001b[38;5;124m'\u001b[39m] \u001b[38;5;241m=\u001b[39m label_encoder\u001b[38;5;241m.\u001b[39mfit_transform(\u001b[43mdata\u001b[49m\u001b[43m[\u001b[49m\u001b[38;5;124;43m'\u001b[39;49m\u001b[38;5;124;43mCOLLEGE\u001b[39;49m\u001b[38;5;124;43m'\u001b[39;49m\u001b[43m,\u001b[49m\u001b[38;5;124;43m'\u001b[39;49m\u001b[38;5;124;43mCONSIDERING_CHANGE_OF_PLAN\u001b[39;49m\u001b[38;5;124;43m'\u001b[39;49m\u001b[43m,\u001b[49m\u001b[38;5;124;43m'\u001b[39;49m\u001b[38;5;124;43mREPORTED_SATISFACTION\u001b[39;49m\u001b[38;5;124;43m'\u001b[39;49m\u001b[43m,\u001b[49m\u001b[38;5;124;43m'\u001b[39;49m\u001b[38;5;124;43mREPORTED_USAGE_LEVEL\u001b[39;49m\u001b[38;5;124;43m'\u001b[39;49m\u001b[43m,\u001b[49m\u001b[38;5;124;43m'\u001b[39;49m\u001b[38;5;124;43mCONSIDERING_CHANGE_OF_PLAN\u001b[39;49m\u001b[38;5;124;43m'\u001b[39;49m\u001b[43m,\u001b[49m\u001b[38;5;124;43m'\u001b[39;49m\u001b[38;5;124;43mLEAVE\u001b[39;49m\u001b[38;5;124;43m'\u001b[39;49m\u001b[43m]\u001b[49m)\n\u001b[0;32m     13\u001b[0m \u001b[38;5;66;03m# Perform one-hot encoding or label encoding for other categorical variables if needed\u001b[39;00m\n\u001b[0;32m     14\u001b[0m \n\u001b[0;32m     15\u001b[0m \u001b[38;5;66;03m# Divide the data into training and test sets (75% training, 25% test)\u001b[39;00m\n\u001b[0;32m     16\u001b[0m X \u001b[38;5;241m=\u001b[39m data\u001b[38;5;241m.\u001b[39mdrop(columns\u001b[38;5;241m=\u001b[39m[\u001b[38;5;124m'\u001b[39m\u001b[38;5;124mLEAVE\u001b[39m\u001b[38;5;124m'\u001b[39m])\n",
      "File \u001b[1;32m~\\anaconda3\\lib\\site-packages\\pandas\\core\\frame.py:3505\u001b[0m, in \u001b[0;36mDataFrame.__getitem__\u001b[1;34m(self, key)\u001b[0m\n\u001b[0;32m   3503\u001b[0m \u001b[38;5;28;01mif\u001b[39;00m \u001b[38;5;28mself\u001b[39m\u001b[38;5;241m.\u001b[39mcolumns\u001b[38;5;241m.\u001b[39mnlevels \u001b[38;5;241m>\u001b[39m \u001b[38;5;241m1\u001b[39m:\n\u001b[0;32m   3504\u001b[0m     \u001b[38;5;28;01mreturn\u001b[39;00m \u001b[38;5;28mself\u001b[39m\u001b[38;5;241m.\u001b[39m_getitem_multilevel(key)\n\u001b[1;32m-> 3505\u001b[0m indexer \u001b[38;5;241m=\u001b[39m \u001b[38;5;28;43mself\u001b[39;49m\u001b[38;5;241;43m.\u001b[39;49m\u001b[43mcolumns\u001b[49m\u001b[38;5;241;43m.\u001b[39;49m\u001b[43mget_loc\u001b[49m\u001b[43m(\u001b[49m\u001b[43mkey\u001b[49m\u001b[43m)\u001b[49m\n\u001b[0;32m   3506\u001b[0m \u001b[38;5;28;01mif\u001b[39;00m is_integer(indexer):\n\u001b[0;32m   3507\u001b[0m     indexer \u001b[38;5;241m=\u001b[39m [indexer]\n",
      "File \u001b[1;32m~\\anaconda3\\lib\\site-packages\\pandas\\core\\indexes\\base.py:3623\u001b[0m, in \u001b[0;36mIndex.get_loc\u001b[1;34m(self, key, method, tolerance)\u001b[0m\n\u001b[0;32m   3621\u001b[0m     \u001b[38;5;28;01mreturn\u001b[39;00m \u001b[38;5;28mself\u001b[39m\u001b[38;5;241m.\u001b[39m_engine\u001b[38;5;241m.\u001b[39mget_loc(casted_key)\n\u001b[0;32m   3622\u001b[0m \u001b[38;5;28;01mexcept\u001b[39;00m \u001b[38;5;167;01mKeyError\u001b[39;00m \u001b[38;5;28;01mas\u001b[39;00m err:\n\u001b[1;32m-> 3623\u001b[0m     \u001b[38;5;28;01mraise\u001b[39;00m \u001b[38;5;167;01mKeyError\u001b[39;00m(key) \u001b[38;5;28;01mfrom\u001b[39;00m \u001b[38;5;21;01merr\u001b[39;00m\n\u001b[0;32m   3624\u001b[0m \u001b[38;5;28;01mexcept\u001b[39;00m \u001b[38;5;167;01mTypeError\u001b[39;00m:\n\u001b[0;32m   3625\u001b[0m     \u001b[38;5;66;03m# If we have a listlike key, _check_indexing_error will raise\u001b[39;00m\n\u001b[0;32m   3626\u001b[0m     \u001b[38;5;66;03m#  InvalidIndexError. Otherwise we fall through and re-raise\u001b[39;00m\n\u001b[0;32m   3627\u001b[0m     \u001b[38;5;66;03m#  the TypeError.\u001b[39;00m\n\u001b[0;32m   3628\u001b[0m     \u001b[38;5;28mself\u001b[39m\u001b[38;5;241m.\u001b[39m_check_indexing_error(key)\n",
      "\u001b[1;31mKeyError\u001b[0m: ('COLLEGE', 'CONSIDERING_CHANGE_OF_PLAN', 'REPORTED_SATISFACTION', 'REPORTED_USAGE_LEVEL', 'CONSIDERING_CHANGE_OF_PLAN', 'LEAVE')"
     ]
    }
   ],
   "source": [
    "import pandas as pd\n",
    "from sklearn.model_selection import train_test_split, cross_val_score\n",
    "from sklearn.tree import DecisionTreeClassifier\n",
    "from sklearn.linear_model import LogisticRegression\n",
    "from sklearn.preprocessing import LabelEncoder\n",
    "\n",
    "# Load the TelCo CHURN dataset\n",
    "data = pd.read_excel('C://Users//n//Downloads//churn2.xls')\n",
    "\n",
    "# Data preprocessing\n",
    "label_encoder = LabelEncoder()\n",
    "data['COLLEGE','CONSIDERING_CHANGE_OF_PLAN','REPORTED_SATISFACTION','REPORTED_USAGE_LEVEL','CONSIDERING_CHANGE_OF_PLAN','LEAVE'] = label_encoder.fit_transform(data['COLLEGE','CONSIDERING_CHANGE_OF_PLAN','REPORTED_SATISFACTION','REPORTED_USAGE_LEVEL','CONSIDERING_CHANGE_OF_PLAN','LEAVE'])\n",
    "# Perform one-hot encoding or label encoding for other categorical variables if needed\n",
    "\n",
    "# Divide the data into training and test sets (75% training, 25% test)\n",
    "X = data.drop(columns=['LEAVE'])\n",
    "y = data['LEAVE']\n",
    "X_train, X_test, y_train, y_test = train_test_split(X, y, test_size=0.25, random_state=42)\n",
    "\n",
    "# Build Decision Tree and Logistic Regression models\n",
    "dt_model = DecisionTreeClassifier()\n",
    "lr_model = LogisticRegression()\n",
    "\n",
    "# Perform 10-fold cross-validation\n",
    "dt_scores = cross_val_score(dt_model, X_train, y_train, cv=10, scoring='accuracy')\n",
    "lr_scores = cross_val_score(lr_model, X_train, y_train, cv=10, scoring='accuracy')\n",
    "\n",
    "# Calculate average accuracy and standard deviation\n",
    "avg_accuracy_dt = dt_scores.mean()\n",
    "std_accuracy_dt = dt_scores.std()\n",
    "avg_accuracy_lr = lr_scores.mean()\n",
    "std_accuracy_lr = lr_scores.std()\n",
    "\n",
    "# Report accuracy for each fold\n",
    "for i in range(10):\n",
    "    print(f\"Fold {i + 1}: Decision Tree Accuracy = {dt_scores[i]:.2f}, Logistic Regression Accuracy = {lr_scores[i]:.2f}\")\n",
    "\n",
    "# Report average accuracy and standard deviation\n",
    "print(\"Average Accuracy (Decision Tree):\", avg_accuracy_dt)\n",
    "print(\"Standard Deviation (Decision Tree):\", std_accuracy_dt)\n",
    "print(\"Average Accuracy (Logistic Regression):\", avg_accuracy_lr)\n",
    "print(\"Standard Deviation (Logistic Regression):\", std_accuracy_lr)"
   ]
  },
  {
   "cell_type": "code",
   "execution_count": null,
   "id": "5bd54abc",
   "metadata": {},
   "outputs": [],
   "source": []
  },
  {
   "cell_type": "code",
   "execution_count": 6,
   "id": "10b95b8c",
   "metadata": {},
   "outputs": [
    {
     "name": "stdout",
     "output_type": "stream",
     "text": [
      "Fold 1: Decision Tree Accuracy = 0.60, Logistic Regression Accuracy = 0.60\n",
      "Fold 2: Decision Tree Accuracy = 0.62, Logistic Regression Accuracy = 0.63\n",
      "Fold 3: Decision Tree Accuracy = 0.62, Logistic Regression Accuracy = 0.63\n",
      "Fold 4: Decision Tree Accuracy = 0.61, Logistic Regression Accuracy = 0.65\n",
      "Fold 5: Decision Tree Accuracy = 0.60, Logistic Regression Accuracy = 0.63\n",
      "Fold 6: Decision Tree Accuracy = 0.62, Logistic Regression Accuracy = 0.64\n",
      "Fold 7: Decision Tree Accuracy = 0.61, Logistic Regression Accuracy = 0.64\n",
      "Fold 8: Decision Tree Accuracy = 0.62, Logistic Regression Accuracy = 0.63\n",
      "Fold 9: Decision Tree Accuracy = 0.62, Logistic Regression Accuracy = 0.63\n",
      "Fold 10: Decision Tree Accuracy = 0.61, Logistic Regression Accuracy = 0.63\n",
      "Average Accuracy (Decision Tree): 0.6126666666666668\n",
      "Standard Deviation (Decision Tree): 0.007296879089339807\n",
      "Average Accuracy (Logistic Regression): 0.6307333333333334\n",
      "Standard Deviation (Logistic Regression): 0.011648366599847578\n"
     ]
    }
   ],
   "source": [
    "import pandas as pd\n",
    "from sklearn.model_selection import train_test_split, cross_val_score\n",
    "from sklearn.tree import DecisionTreeClassifier\n",
    "from sklearn.linear_model import LogisticRegression\n",
    "from sklearn.preprocessing import LabelEncoder\n",
    "\n",
    "# Load the TelCo CHURN dataset\n",
    "data = pd.read_excel('C://Users//n//Downloads//churn2.xls')\n",
    "\n",
    "# Data preprocessing\n",
    "label_encoder = LabelEncoder()\n",
    "categorical_columns = ['COLLEGE', 'CONSIDERING_CHANGE_OF_PLAN', 'REPORTED_SATISFACTION', 'REPORTED_USAGE_LEVEL', 'LEAVE']\n",
    "for column in categorical_columns:\n",
    "    data[column] = label_encoder.fit_transform(data[column])\n",
    "# Perform one-hot encoding or label encoding for other categorical variables if needed\n",
    "\n",
    "# Divide the data into training and test sets (75% training, 25% test)\n",
    "X = data.drop(columns=['LEAVE'])\n",
    "y = data['LEAVE']\n",
    "X_train, X_test, y_train, y_test = train_test_split(X, y, test_size=0.25, random_state=42)\n",
    "\n",
    "# Build Decision Tree and Logistic Regression models\n",
    "dt_model = DecisionTreeClassifier()\n",
    "lr_model = LogisticRegression()\n",
    "\n",
    "# Perform 10-fold cross-validation\n",
    "dt_scores = cross_val_score(dt_model, X_train, y_train, cv=10, scoring='accuracy')\n",
    "lr_scores = cross_val_score(lr_model, X_train, y_train, cv=10, scoring='accuracy')\n",
    "\n",
    "# Calculate average accuracy and standard deviation\n",
    "avg_accuracy_dt = dt_scores.mean()\n",
    "std_accuracy_dt = dt_scores.std()\n",
    "avg_accuracy_lr = lr_scores.mean()\n",
    "std_accuracy_lr = lr_scores.std()\n",
    "\n",
    "# Report accuracy for each fold\n",
    "for i in range(10):\n",
    "    print(f\"Fold {i + 1}: Decision Tree Accuracy = {dt_scores[i]:.2f}, Logistic Regression Accuracy = {lr_scores[i]:.2f}\")\n",
    "\n",
    "# Report average accuracy and standard deviation\n",
    "print(\"Average Accuracy (Decision Tree):\", avg_accuracy_dt)\n",
    "print(\"Standard Deviation (Decision Tree):\", std_accuracy_dt)\n",
    "print(\"Average Accuracy (Logistic Regression):\", avg_accuracy_lr)\n",
    "print(\"Standard Deviation (Logistic Regression):\", std_accuracy_lr)\n"
   ]
  },
  {
   "cell_type": "code",
   "execution_count": null,
   "id": "a0530ebf",
   "metadata": {},
   "outputs": [],
   "source": []
  }
 ],
 "metadata": {
  "kernelspec": {
   "display_name": "Python 3 (ipykernel)",
   "language": "python",
   "name": "python3"
  },
  "language_info": {
   "codemirror_mode": {
    "name": "ipython",
    "version": 3
   },
   "file_extension": ".py",
   "mimetype": "text/x-python",
   "name": "python",
   "nbconvert_exporter": "python",
   "pygments_lexer": "ipython3",
   "version": "3.9.12"
  }
 },
 "nbformat": 4,
 "nbformat_minor": 5
}
