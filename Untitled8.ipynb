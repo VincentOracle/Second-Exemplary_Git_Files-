{
 "cells": [
  {
   "cell_type": "code",
   "execution_count": 1,
   "id": "394c3197",
   "metadata": {},
   "outputs": [
    {
     "name": "stdout",
     "output_type": "stream",
     "text": [
      "Requirement already satisfied: gym in c:\\users\\n\\anaconda3\\lib\\site-packages (0.26.2)\n",
      "Requirement already satisfied: importlib-metadata>=4.8.0 in c:\\users\\n\\anaconda3\\lib\\site-packages (from gym) (4.11.3)\n",
      "Requirement already satisfied: numpy>=1.18.0 in c:\\users\\n\\anaconda3\\lib\\site-packages (from gym) (1.22.4)\n",
      "Requirement already satisfied: gym-notices>=0.0.4 in c:\\users\\n\\anaconda3\\lib\\site-packages (from gym) (0.0.8)\n",
      "Requirement already satisfied: cloudpickle>=1.2.0 in c:\\users\\n\\anaconda3\\lib\\site-packages (from gym) (2.0.0)\n",
      "Requirement already satisfied: zipp>=0.5 in c:\\users\\n\\anaconda3\\lib\\site-packages (from importlib-metadata>=4.8.0->gym) (3.7.0)\n"
     ]
    }
   ],
   "source": [
    "!pip install gym\n"
   ]
  },
  {
   "cell_type": "code",
   "execution_count": 18,
   "id": "6360f244",
   "metadata": {},
   "outputs": [],
   "source": [
    "import gym\n",
    "from gym import spaces\n",
    "import numpy as np\n",
    "\n",
    "class MedicalDiagnosisMDP(gym.Env):\n",
    "    def __init__(self):\n",
    "        self.symptoms = [\"fever\", \"cough\", \"sore throat\", \"fatigue\"]\n",
    "        self.tests = [\"blood test\", \"x-ray\", \"urine test\"]\n",
    "        self.diagnoses = [\"cold\", \"flu\", \"pneumonia\"]\n",
    "        \n",
    "        # Define action and observation spaces\n",
    "        self.action_space = spaces.Discrete(len(self.tests))\n",
    "        self.observation_space = spaces.MultiBinary(len(self.symptoms))\n",
    "        \n",
    "        # Define rewards\n",
    "        self.rewards = np.array([[0.9, 0.1, 0.1], [0.1, 0.9, 0.1], [0.1, 0.1, 0.9], [0.5, 0.5, 0.5]])\n",
    "        \n",
    "        # Define transition probabilities\n",
    "        self.transition_probs = np.array([[[0.9, 0.05, 0.05], [0.2, 0.7, 0.1], [0.1, 0.3, 0.6]],\n",
    "                                          [[0.05, 0.9, 0.05], [0.1, 0.7, 0.2], [0.3, 0.3, 0.4]],\n",
    "                                          [[0.05, 0.05, 0.9], [0.1, 0.2, 0.7], [0.3, 0.5, 0.2]],\n",
    "                                          [[0.6, 0.2, 0.2], [0.2, 0.6, 0.2], [0.2, 0.2, 0.6]]])\n",
    "        \n",
    "        # Define initial state\n",
    "        self.state = self.observation_space.sample()\n",
    "\n"
   ]
  },
  {
   "cell_type": "code",
   "execution_count": 45,
   "id": "09411c66",
   "metadata": {},
   "outputs": [],
   "source": [
    "\n",
    "class RobotNavigationMDP(gym.Env):\n",
    "    def __init__(self, n_rows=10, n_cols=10):\n",
    "        self.n_rows = n_rows\n",
    "        self.n_cols = n_cols\n",
    "        \n",
    "        # Define action and observation spaces\n",
    "        self.action_space = spaces.Discrete(4)\n",
    "        self.observation_space = spaces.MultiDiscrete([self.n_rows, self.n_cols])\n",
    "        \n",
    "        # Define rewards\n",
    "        self.rewards = np.zeros((self.n_rows, self.n_cols))\n",
    "        self.rewards[0, 0] = 1"
   ]
  },
  {
   "cell_type": "code",
   "execution_count": 47,
   "id": "ebeed03d",
   "metadata": {},
   "outputs": [
    {
     "ename": "NameError",
     "evalue": "name 'self' is not defined",
     "output_type": "error",
     "traceback": [
      "\u001b[1;31m---------------------------------------------------------------------------\u001b[0m",
      "\u001b[1;31mNameError\u001b[0m                                 Traceback (most recent call last)",
      "Input \u001b[1;32mIn [47]\u001b[0m, in \u001b[0;36m<cell line: 2>\u001b[1;34m()\u001b[0m\n\u001b[0;32m      1\u001b[0m \u001b[38;5;66;03m# Define transition probabilities\u001b[39;00m\n\u001b[1;32m----> 2\u001b[0m \u001b[38;5;28mself\u001b[39m\u001b[38;5;241m.\u001b[39mtransition_probs \u001b[38;5;241m=\u001b[39m np\u001b[38;5;241m.\u001b[39mzeros((\u001b[38;5;28;43mself\u001b[39;49m\u001b[38;5;241m.\u001b[39mn_rows, \u001b[38;5;28mself\u001b[39m\u001b[38;5;241m.\u001b[39mn_cols, \u001b[38;5;241m4\u001b[39m, \u001b[38;5;28mself\u001b[39m\u001b[38;5;241m.\u001b[39mn_rows, \u001b[38;5;28mself\u001b[39m\u001b[38;5;241m.\u001b[39mn_cols))\n\u001b[0;32m      3\u001b[0m \u001b[38;5;28;01mfor\u001b[39;00m i \u001b[38;5;129;01min\u001b[39;00m \u001b[38;5;28mrange\u001b[39m(\u001b[38;5;28mself\u001b[39m\u001b[38;5;241m.\u001b[39mn_rows):\n\u001b[0;32m      4\u001b[0m     \u001b[38;5;28;01mfor\u001b[39;00m j \u001b[38;5;129;01min\u001b[39;00m \u001b[38;5;28mrange\u001b[39m(\u001b[38;5;28mself\u001b[39m\u001b[38;5;241m.\u001b[39mn_cols):\n",
      "\u001b[1;31mNameError\u001b[0m: name 'self' is not defined"
     ]
    }
   ],
   "source": [
    "\n",
    "        # Define transition probabilities\n",
    "        self.transition_probs = np.zeros((self.n_rows, self.n_cols, 4, self.n_rows, self.n_cols))\n",
    "for i in range(self.n_rows):\n",
    "            for j in range(self.n_cols):\n",
    "                for a in range(4):\n",
    "                    if a == 0: #\n",
    "                        self.transition_probs[i, j, a, max(i-1, 0), j] += 0.8\n",
    "                        self.transition_probs[i, j, a, i, max(j-1, 0)] += 0.1\n",
    "                        self.transition_probs[i, j, a, i, min(j+1, self.n_cols-1)] += 0.1\n",
    "    \n",
    "                    if a == 1:\n",
    "                        self.transition_probs[i, j, a, min(i+1, self.n_rows-1), j] += 0.8\n",
    "                        self.transition_probs[i, j, a, i, max(j-1, 0)] += 0.1\n",
    "                        self.transition_probs[i, j, a, i, min(j+1, self.n_cols-1)] += 0.1\n",
    "    \n",
    "                    if a == 2:\n",
    "                       self.transition_probs[i, j, a, i, max(j-1, 0)] += 0.8\n",
    "                       self.transition_probs[i, j, a, max(i-1, 0), j] += 0.1\n",
    "                       self.transition_probs[i, j, a, min(i+1, self.n_rows-1), j] += 0.1\n",
    "    \n",
    "                    if a == 3:\n",
    "                       self.transition_probs[i, j, a, i, min(j+1, self.n_cols-1)] += 0.8\n",
    "                       self.transition_probs[i, j, a, max(i-1, 0), j] += 0.1\n",
    "                       self.transition_probs[i, j, a, min(i+1, self.n_rows-1), j] += 0.1\n",
    "    \n",
    "                      \n"
   ]
  },
  {
   "cell_type": "code",
   "execution_count": 43,
   "id": "0527687e",
   "metadata": {},
   "outputs": [
    {
     "ename": "IndentationError",
     "evalue": "expected an indented block (2197181877.py, line 4)",
     "output_type": "error",
     "traceback": [
      "\u001b[1;36m  Input \u001b[1;32mIn [43]\u001b[1;36m\u001b[0m\n\u001b[1;33m    self.state = self.observation_space.sample()\u001b[0m\n\u001b[1;37m    ^\u001b[0m\n\u001b[1;31mIndentationError\u001b[0m\u001b[1;31m:\u001b[0m expected an indented block\n"
     ]
    }
   ],
   "source": []
  },
  {
   "cell_type": "code",
   "execution_count": null,
   "id": "a81368bd",
   "metadata": {},
   "outputs": [],
   "source": []
  }
 ],
 "metadata": {
  "kernelspec": {
   "display_name": "Python 3 (ipykernel)",
   "language": "python",
   "name": "python3"
  },
  "language_info": {
   "codemirror_mode": {
    "name": "ipython",
    "version": 3
   },
   "file_extension": ".py",
   "mimetype": "text/x-python",
   "name": "python",
   "nbconvert_exporter": "python",
   "pygments_lexer": "ipython3",
   "version": "3.9.12"
  }
 },
 "nbformat": 4,
 "nbformat_minor": 5
}
