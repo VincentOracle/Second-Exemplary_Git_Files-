{
 "cells": [
  {
   "cell_type": "code",
   "execution_count": 8,
   "id": "1cf10a28",
   "metadata": {},
   "outputs": [
    {
     "name": "stderr",
     "output_type": "stream",
     "text": [
      "C:\\Users\\n\\anaconda3\\lib\\site-packages\\statsmodels\\tsa\\base\\tsa_model.py:471: ValueWarning: A date index has been provided, but it has no associated frequency information and so will be ignored when e.g. forecasting.\n",
      "  self._init_dates(dates, freq)\n",
      "C:\\Users\\n\\anaconda3\\lib\\site-packages\\statsmodels\\tsa\\base\\tsa_model.py:471: ValueWarning: A date index has been provided, but it is not monotonic and so will be ignored when e.g. forecasting.\n",
      "  self._init_dates(dates, freq)\n",
      "C:\\Users\\n\\anaconda3\\lib\\site-packages\\statsmodels\\tsa\\base\\tsa_model.py:471: ValueWarning: A date index has been provided, but it has no associated frequency information and so will be ignored when e.g. forecasting.\n",
      "  self._init_dates(dates, freq)\n",
      "C:\\Users\\n\\anaconda3\\lib\\site-packages\\statsmodels\\tsa\\base\\tsa_model.py:471: ValueWarning: A date index has been provided, but it is not monotonic and so will be ignored when e.g. forecasting.\n",
      "  self._init_dates(dates, freq)\n"
     ]
    },
    {
     "ename": "IndexError",
     "evalue": "index -1 is out of bounds for axis 0 with size 0",
     "output_type": "error",
     "traceback": [
      "\u001b[1;31m---------------------------------------------------------------------------\u001b[0m",
      "\u001b[1;31mIndexError\u001b[0m                                Traceback (most recent call last)",
      "Input \u001b[1;32mIn [8]\u001b[0m, in \u001b[0;36m<cell line: 36>\u001b[1;34m()\u001b[0m\n\u001b[0;32m     33\u001b[0m fitted_model \u001b[38;5;241m=\u001b[39m model\u001b[38;5;241m.\u001b[39mfit()\n\u001b[0;32m     35\u001b[0m \u001b[38;5;66;03m# Make predictions on the test data\u001b[39;00m\n\u001b[1;32m---> 36\u001b[0m test[\u001b[38;5;124m'\u001b[39m\u001b[38;5;124mpredictions\u001b[39m\u001b[38;5;124m'\u001b[39m] \u001b[38;5;241m=\u001b[39m fitted_model\u001b[38;5;241m.\u001b[39mpredict(start\u001b[38;5;241m=\u001b[39msplit_date, end\u001b[38;5;241m=\u001b[39m\u001b[43mtest\u001b[49m\u001b[38;5;241;43m.\u001b[39;49m\u001b[43mindex\u001b[49m\u001b[43m[\u001b[49m\u001b[38;5;241;43m-\u001b[39;49m\u001b[38;5;241;43m1\u001b[39;49m\u001b[43m]\u001b[49m, dynamic\u001b[38;5;241m=\u001b[39m\u001b[38;5;28;01mTrue\u001b[39;00m)\n\u001b[0;32m     38\u001b[0m \u001b[38;5;66;03m# Compute the RMSE of the predictions\u001b[39;00m\n\u001b[0;32m     39\u001b[0m rmse \u001b[38;5;241m=\u001b[39m np\u001b[38;5;241m.\u001b[39msqrt(mean_squared_error(test[\u001b[38;5;124m'\u001b[39m\u001b[38;5;124mprice\u001b[39m\u001b[38;5;124m'\u001b[39m], test[\u001b[38;5;124m'\u001b[39m\u001b[38;5;124mpredictions\u001b[39m\u001b[38;5;124m'\u001b[39m]))\n",
      "File \u001b[1;32m~\\anaconda3\\lib\\site-packages\\pandas\\core\\indexes\\base.py:5039\u001b[0m, in \u001b[0;36mIndex.__getitem__\u001b[1;34m(self, key)\u001b[0m\n\u001b[0;32m   5036\u001b[0m \u001b[38;5;28;01mif\u001b[39;00m is_integer(key) \u001b[38;5;129;01mor\u001b[39;00m is_float(key):\n\u001b[0;32m   5037\u001b[0m     \u001b[38;5;66;03m# GH#44051 exclude bool, which would return a 2d ndarray\u001b[39;00m\n\u001b[0;32m   5038\u001b[0m     key \u001b[38;5;241m=\u001b[39m com\u001b[38;5;241m.\u001b[39mcast_scalar_indexer(key, warn_float\u001b[38;5;241m=\u001b[39m\u001b[38;5;28;01mTrue\u001b[39;00m)\n\u001b[1;32m-> 5039\u001b[0m     \u001b[38;5;28;01mreturn\u001b[39;00m \u001b[43mgetitem\u001b[49m\u001b[43m(\u001b[49m\u001b[43mkey\u001b[49m\u001b[43m)\u001b[49m\n\u001b[0;32m   5041\u001b[0m \u001b[38;5;28;01mif\u001b[39;00m \u001b[38;5;28misinstance\u001b[39m(key, \u001b[38;5;28mslice\u001b[39m):\n\u001b[0;32m   5042\u001b[0m     \u001b[38;5;66;03m# This case is separated from the conditional above to avoid\u001b[39;00m\n\u001b[0;32m   5043\u001b[0m     \u001b[38;5;66;03m# pessimization com.is_bool_indexer and ndim checks.\u001b[39;00m\n\u001b[0;32m   5044\u001b[0m     result \u001b[38;5;241m=\u001b[39m getitem(key)\n",
      "File \u001b[1;32m~\\anaconda3\\lib\\site-packages\\pandas\\core\\arrays\\datetimelike.py:341\u001b[0m, in \u001b[0;36mDatetimeLikeArrayMixin.__getitem__\u001b[1;34m(self, key)\u001b[0m\n\u001b[0;32m    333\u001b[0m \u001b[38;5;124;03m\"\"\"\u001b[39;00m\n\u001b[0;32m    334\u001b[0m \u001b[38;5;124;03mThis getitem defers to the underlying array, which by-definition can\u001b[39;00m\n\u001b[0;32m    335\u001b[0m \u001b[38;5;124;03monly handle list-likes, slices, and integer scalars\u001b[39;00m\n\u001b[0;32m    336\u001b[0m \u001b[38;5;124;03m\"\"\"\u001b[39;00m\n\u001b[0;32m    337\u001b[0m \u001b[38;5;66;03m# Use cast as we know we will get back a DatetimeLikeArray or DTScalar,\u001b[39;00m\n\u001b[0;32m    338\u001b[0m \u001b[38;5;66;03m# but skip evaluating the Union at runtime for performance\u001b[39;00m\n\u001b[0;32m    339\u001b[0m \u001b[38;5;66;03m# (see https://github.com/pandas-dev/pandas/pull/44624)\u001b[39;00m\n\u001b[0;32m    340\u001b[0m result \u001b[38;5;241m=\u001b[39m cast(\n\u001b[1;32m--> 341\u001b[0m     \u001b[38;5;124m\"\u001b[39m\u001b[38;5;124mUnion[DatetimeLikeArrayT, DTScalarOrNaT]\u001b[39m\u001b[38;5;124m\"\u001b[39m, \u001b[38;5;28;43msuper\u001b[39;49m\u001b[43m(\u001b[49m\u001b[43m)\u001b[49m\u001b[38;5;241;43m.\u001b[39;49m\u001b[38;5;21;43m__getitem__\u001b[39;49m\u001b[43m(\u001b[49m\u001b[43mkey\u001b[49m\u001b[43m)\u001b[49m\n\u001b[0;32m    342\u001b[0m )\n\u001b[0;32m    343\u001b[0m \u001b[38;5;28;01mif\u001b[39;00m lib\u001b[38;5;241m.\u001b[39mis_scalar(result):\n\u001b[0;32m    344\u001b[0m     \u001b[38;5;28;01mreturn\u001b[39;00m result\n",
      "File \u001b[1;32m~\\anaconda3\\lib\\site-packages\\pandas\\core\\arrays\\_mixins.py:272\u001b[0m, in \u001b[0;36mNDArrayBackedExtensionArray.__getitem__\u001b[1;34m(self, key)\u001b[0m\n\u001b[0;32m    266\u001b[0m \u001b[38;5;28;01mdef\u001b[39;00m \u001b[38;5;21m__getitem__\u001b[39m(\n\u001b[0;32m    267\u001b[0m     \u001b[38;5;28mself\u001b[39m: NDArrayBackedExtensionArrayT,\n\u001b[0;32m    268\u001b[0m     key: PositionalIndexer2D,\n\u001b[0;32m    269\u001b[0m ) \u001b[38;5;241m-\u001b[39m\u001b[38;5;241m>\u001b[39m NDArrayBackedExtensionArrayT \u001b[38;5;241m|\u001b[39m Any:\n\u001b[0;32m    270\u001b[0m     \u001b[38;5;28;01mif\u001b[39;00m lib\u001b[38;5;241m.\u001b[39mis_integer(key):\n\u001b[0;32m    271\u001b[0m         \u001b[38;5;66;03m# fast-path\u001b[39;00m\n\u001b[1;32m--> 272\u001b[0m         result \u001b[38;5;241m=\u001b[39m \u001b[38;5;28;43mself\u001b[39;49m\u001b[38;5;241;43m.\u001b[39;49m\u001b[43m_ndarray\u001b[49m\u001b[43m[\u001b[49m\u001b[43mkey\u001b[49m\u001b[43m]\u001b[49m\n\u001b[0;32m    273\u001b[0m         \u001b[38;5;28;01mif\u001b[39;00m \u001b[38;5;28mself\u001b[39m\u001b[38;5;241m.\u001b[39mndim \u001b[38;5;241m==\u001b[39m \u001b[38;5;241m1\u001b[39m:\n\u001b[0;32m    274\u001b[0m             \u001b[38;5;28;01mreturn\u001b[39;00m \u001b[38;5;28mself\u001b[39m\u001b[38;5;241m.\u001b[39m_box_func(result)\n",
      "\u001b[1;31mIndexError\u001b[0m: index -1 is out of bounds for axis 0 with size 0"
     ]
    }
   ],
   "source": [
    "import numpy as np\n",
    "import pandas as pd\n",
    "import statsmodels.api as sm\n",
    "from sklearn.metrics import mean_squared_error\n",
    "\n",
    "# Load the dataset\n",
    "df = pd.read_csv('C:\\\\Users\\\\n\\\\Downloads\\\\archive (7)\\\\raw_sales.csv', parse_dates=['datesold'])\n",
    "# sales_data = pd.read_csv('C:\\\\Users\\\\n\\\\Downloads\\\\archive (7)\\\\raw_sales.csv')\n",
    "df = df.set_index('datesold')\n",
    "\n",
    "# Define the number of bootstraps\n",
    "n_bootstraps = 100\n",
    "\n",
    "# Initialize an array to store the bootstrapped predictions\n",
    "bootstrapped_predictions = np.zeros((n_bootstraps, len(df)))\n",
    "\n",
    "# Define the train-test split point\n",
    "split_date = '2021-01-02'\n",
    "train = df.loc[df.index <= split_date].copy()\n",
    "test = df.loc[df.index > split_date].copy()\n",
    "\n",
    "# Define the SARIMA model parameters\n",
    "p = 1   # Order of the AR (AutoRegressive) component\n",
    "d = 1   # Order of differencing\n",
    "q = 1   # Order of the MA (Moving Average) component\n",
    "P = 1   # Seasonal order of the AR component\n",
    "D = 1   # Seasonal order of differencing\n",
    "Q = 1   # Seasonal order of the MA component\n",
    "s = 7   # Seasonal length in days\n",
    "\n",
    "# Train the model on the training data\n",
    "model = sm.tsa.statespace.SARIMAX(train['price'], order=(p, d, q), seasonal_order=(P, D, Q, s))\n",
    "fitted_model = model.fit()\n",
    "\n",
    "# Make predictions on the test data\n",
    "test['predictions'] = fitted_model.predict(start=split_date, end=test.index[-1], dynamic=True)\n",
    "\n",
    "# Compute the RMSE of the predictions\n",
    "rmse = np.sqrt(mean_squared_error(test['price'], test['predictions']))\n",
    "print('RMSE:', rmse)\n",
    "\n",
    "# Run the bootstrapping procedure\n",
    "for i in range(n_bootstraps):\n",
    "    # Sample the data with replacement\n",
    "    bootstrap_sample = df.sample(frac=1.0, replace=True)\n",
    "    \n",
    "    # Define the train-test split point\n",
    "    split_date = '2021-01-02'\n",
    "    train = bootstrap_sample.loc[bootstrap_sample.index <= split_date].copy()\n",
    "    test = bootstrap_sample.loc[bootstrap_sample.index > split_date].copy()\n",
    "    \n",
    "    # Train the model on the training data\n",
    "    model = sm.tsa.statespace.SARIMAX(train['price'], order=(p, d, q), seasonal_order=(P, D, Q, s))\n",
    "    fitted_model = model.fit()\n",
    "    \n",
    "    # Make predictions on the original dataset\n",
    "    predictions = fitted_model.predict(start=df.index[0], end=df.index[-1], dynamic=True)\n",
    "    \n",
    "    # Store the predictions in the bootstrapped_predictions array\n",
    "    bootstrapped_predictions[i] = predictions\n",
    "\n",
    "# Compute the mean of the bootstrapped predictions\n",
    "mean_predictions = np.mean(bootstrapped_predictions, axis=0)\n",
    "\n",
    "# Compute the RMSE of the mean predictions compared to the actual values\n",
    "rmse = np.sqrt(mean_squared_error(df['price'], mean_predictions))\n",
    "\n",
    "print('RMSE:', rmse)\n"
   ]
  },
  {
   "cell_type": "code",
   "execution_count": null,
   "id": "e00e3d9b",
   "metadata": {},
   "outputs": [],
   "source": []
  }
 ],
 "metadata": {
  "kernelspec": {
   "display_name": "Python 3 (ipykernel)",
   "language": "python",
   "name": "python3"
  },
  "language_info": {
   "codemirror_mode": {
    "name": "ipython",
    "version": 3
   },
   "file_extension": ".py",
   "mimetype": "text/x-python",
   "name": "python",
   "nbconvert_exporter": "python",
   "pygments_lexer": "ipython3",
   "version": "3.9.12"
  }
 },
 "nbformat": 4,
 "nbformat_minor": 5
}
